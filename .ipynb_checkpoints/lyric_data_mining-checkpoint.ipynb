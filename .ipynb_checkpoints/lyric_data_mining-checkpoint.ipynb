{
 "cells": [
  {
   "cell_type": "code",
   "execution_count": 12,
   "metadata": {
    "colab": {
     "base_uri": "https://localhost:8080/"
    },
    "id": "rwZey7Obbu_7",
    "outputId": "28ed045b-1bd9-4926-9009-287aa4a3eee8"
   },
   "outputs": [],
   "source": [
    "import lyricsgenius\n",
    "import requests\n",
    "import json\n",
    "\n",
    "import pandas as pd\n",
    "import numpy as np"
   ]
  },
  {
   "cell_type": "code",
   "execution_count": 13,
   "metadata": {
    "colab": {
     "base_uri": "https://localhost:8080/",
     "height": 478
    },
    "id": "tFjRFo_PbvZR",
    "outputId": "c858f82b-d90a-4e7b-ed01-59058edd3e74"
   },
   "outputs": [
    {
     "name": "stdout",
     "output_type": "stream",
     "text": [
      "Searching for songs by Taylor Swift...\n",
      "\n",
      "Song 1: \"All Too Well (10 Minute Version) (Taylor’s Version) [From the Vault]\"\n",
      "Song 2: \"All Too Well (10 Minute Version) (Taylor’s Version) [Live Acoustic]\"\n",
      "Song 3: \"​cardigan\"\n",
      "Song 4: \"​exile\"\n",
      "Song 5: \"Lover\"\n",
      "\n",
      "Reached user-specified song limit (5).\n",
      "Done. Found 5 songs.\n"
     ]
    },
    {
     "data": {
      "text/html": [
       "<div>\n",
       "<style scoped>\n",
       "    .dataframe tbody tr th:only-of-type {\n",
       "        vertical-align: middle;\n",
       "    }\n",
       "\n",
       "    .dataframe tbody tr th {\n",
       "        vertical-align: top;\n",
       "    }\n",
       "\n",
       "    .dataframe thead th {\n",
       "        text-align: right;\n",
       "    }\n",
       "</style>\n",
       "<table border=\"1\" class=\"dataframe\">\n",
       "  <thead>\n",
       "    <tr style=\"text-align: right;\">\n",
       "      <th></th>\n",
       "      <th>song</th>\n",
       "      <th>lyrics</th>\n",
       "    </tr>\n",
       "  </thead>\n",
       "  <tbody>\n",
       "    <tr>\n",
       "      <th>0</th>\n",
       "      <td>All Too Well (10 Minute Version) (Taylor’s Ver...</td>\n",
       "      <td>TranslationsEspañolСрпскиРусскийPortuguêsNorsk...</td>\n",
       "    </tr>\n",
       "    <tr>\n",
       "      <th>1</th>\n",
       "      <td>All Too Well (10 Minute Version) (Taylor’s Ver...</td>\n",
       "      <td>All Too Well (10 Minute Version) (Taylor’s Ver...</td>\n",
       "    </tr>\n",
       "    <tr>\n",
       "      <th>2</th>\n",
       "      <td>​cardigan</td>\n",
       "      <td>TranslationsNederlandsTürkçeEspañolСрпскиРусск...</td>\n",
       "    </tr>\n",
       "    <tr>\n",
       "      <th>3</th>\n",
       "      <td>​exile</td>\n",
       "      <td>TranslationsNederlandsTürkçeEspañolСрпскиРусск...</td>\n",
       "    </tr>\n",
       "    <tr>\n",
       "      <th>4</th>\n",
       "      <td>Lover</td>\n",
       "      <td>TranslationsNederlandsEspañolBosanskiRomânăPor...</td>\n",
       "    </tr>\n",
       "  </tbody>\n",
       "</table>\n",
       "</div>"
      ],
      "text/plain": [
       "                                                song  \\\n",
       "0  All Too Well (10 Minute Version) (Taylor’s Ver...   \n",
       "1  All Too Well (10 Minute Version) (Taylor’s Ver...   \n",
       "2                                          ​cardigan   \n",
       "3                                             ​exile   \n",
       "4                                              Lover   \n",
       "\n",
       "                                              lyrics  \n",
       "0  TranslationsEspañolСрпскиРусскийPortuguêsNorsk...  \n",
       "1  All Too Well (10 Minute Version) (Taylor’s Ver...  \n",
       "2  TranslationsNederlandsTürkçeEspañolСрпскиРусск...  \n",
       "3  TranslationsNederlandsTürkçeEspañolСрпскиРусск...  \n",
       "4  TranslationsNederlandsEspañolBosanskiRomânăPor...  "
      ]
     },
     "execution_count": 13,
     "metadata": {},
     "output_type": "execute_result"
    }
   ],
   "source": [
    "# Genius API credentials\n",
    "CLIENT_ACCESS_TOKEN = \"RKRYWllYYnmFDvUiFcxoTfAGcY8FP9ffjYTrL1LjP5X33PVeJev48gRV-Be7ifcv\"\n",
    "\n",
    "def get_lyrics_for_artist(artist_name, num_songs):\n",
    "    # Authenticate with the API\n",
    "    genius = lyricsgenius.Genius(CLIENT_ACCESS_TOKEN)\n",
    "\n",
    "    # Search for artist\n",
    "    artist = genius.search_artist(artist_name,max_songs=num_songs)\n",
    "\n",
    "    # Get all songs by artist\n",
    "    artist_songs = artist.songs\n",
    "\n",
    "    # Get lyrics for each song\n",
    "    lyrics = []\n",
    "    for song in artist_songs:\n",
    "        item = {}\n",
    "        item['song'] = song.title\n",
    "        item['lyrics'] = song.lyrics\n",
    "        lyrics.append(item)\n",
    "\n",
    "    return lyrics\n",
    "\n",
    "# Example usage\n",
    "artist_name = \"Taylor Swift\"\n",
    "lyrics = pd.DataFrame(get_lyrics_for_artist(artist_name,5))\n",
    "lyrics.head()"
   ]
  },
  {
   "cell_type": "code",
   "execution_count": null,
   "metadata": {
    "id": "qegoNWrIeVcl"
   },
   "outputs": [],
   "source": []
  }
 ],
 "metadata": {
  "colab": {
   "include_colab_link": true,
   "provenance": []
  },
  "kernelspec": {
   "display_name": "Python 3",
   "language": "python",
   "name": "python3"
  },
  "language_info": {
   "codemirror_mode": {
    "name": "ipython",
    "version": 3
   },
   "file_extension": ".py",
   "mimetype": "text/x-python",
   "name": "python",
   "nbconvert_exporter": "python",
   "pygments_lexer": "ipython3",
   "version": "3.7.6"
  }
 },
 "nbformat": 4,
 "nbformat_minor": 4
}
