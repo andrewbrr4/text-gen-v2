{
  "cells": [
    {
      "cell_type": "markdown",
      "metadata": {
        "id": "view-in-github",
        "colab_type": "text"
      },
      "source": [
        "<a href=\"https://colab.research.google.com/github/andrewbrr4/text-gen-v2/blob/master/lyric_data_mining.ipynb\" target=\"_parent\"><img src=\"https://colab.research.google.com/assets/colab-badge.svg\" alt=\"Open In Colab\"/></a>"
      ]
    },
    {
      "cell_type": "code",
      "execution_count": null,
      "metadata": {
        "id": "rwZey7Obbu_7"
      },
      "outputs": [],
      "source": [
        "from google.colab import drive\n",
        "drive.mount('/content/drive')\n",
        "\n",
        "# Input data files are available in the read-only \"../input/\" directory\n",
        "# For example, running this (by clicking run or pressing Shift+Enter) will list all files under the input directory\n",
        "\n",
        "import os\n",
        "for dirname, _, filenames in os.walk('/content/drive/MyDrive/datasets'):\n",
        "    for filename in filenames:\n",
        "        print(os.path.join(dirname, filename))"
      ]
    },
    {
      "cell_type": "code",
      "source": [
        "|def get_song_lyrics(song_title, artist_name):\n",
        "    # Get song ID\n",
        "    search_url = BASE_URL + \"/search?q=\" + song_title + \" \" + artist_name\n",
        "    headers = {\"Authorization\": \"Bearer \" + CLIENT_ACCESS_TOKEN}\n",
        "    response = requests.get(search_url, headers=headers)\n",
        "    json_data = json.loads(response.text)\n",
        "    song_id = json_data[\"response\"][\"hits\"][0][\"result\"][\"id\"]\n",
        "\n",
        "    # Get song lyrics\n",
        "    lyrics_url = BASE_URL + \"/songs/\" + str(song_id)\n",
        "    response = requests.get(lyrics_url, headers=headers)\n",
        "    json_data = json.loads(response.text)\n",
        "    song_lyrics = json_data[\"response\"][\"song\"][\"lyrics\"]\n",
        "\n",
        "    return song_lyrics\n",
        "\n",
        "# Example usage\n",
        "song_title = \"Bohemian Rhapsody\"\n",
        "artist_name = \"Queen\"\n",
        "lyrics = get_song_lyrics(song_title, artist_name)\n",
        "print(lyrics)"
      ],
      "metadata": {
        "id": "tFjRFo_PbvZR"
      },
      "execution_count": null,
      "outputs": []
    },
    {
      "cell_type": "code",
      "source": [],
      "metadata": {
        "id": "hN0ZrmGcb1PW"
      },
      "execution_count": null,
      "outputs": []
    }
  ],
  "metadata": {
    "kernelspec": {
      "display_name": "Python 3",
      "language": "python",
      "name": "python3"
    },
    "language_info": {
      "codemirror_mode": {
        "name": "ipython",
        "version": 3
      },
      "file_extension": ".py",
      "mimetype": "text/x-python",
      "name": "python",
      "nbconvert_exporter": "python",
      "pygments_lexer": "ipython3",
      "version": "3.7.6"
    },
    "colab": {
      "provenance": [],
      "include_colab_link": true
    }
  },
  "nbformat": 4,
  "nbformat_minor": 0
}